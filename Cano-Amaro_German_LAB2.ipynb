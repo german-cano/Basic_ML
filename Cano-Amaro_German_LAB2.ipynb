{
 "cells": [
  {
   "cell_type": "markdown",
   "metadata": {},
   "source": [
    "# Kuzushiji Classification with Support Vector Machines\n",
    "\n",
    "In this notebook we are going to explore the use of Support Vector Machines (SVM) for image classification. We will use a variant of the famous MNIST dataset (the original is a dataset of handwritten digits). The version we are going to use is called Kuzushiji-MNIST or K-MNIST for short (https://github.com/rois-codh/kmnist) and is a dataset of traditional japanese handwritten kana.\n",
    "\n",
    "\n",
    "\n",
    "The dataset labels are the following:\n",
    "\n",
    "| Label | Hiragana Character | Romanji (Pronunciation) |\n",
    "| :-: | :-: | :-: |\n",
    "|   0   | お | o |\n",
    "| 1 | き | ki |\n",
    "| 2 | す | su |\n",
    "| 3 | つ | tsu |\n",
    "| 4 | な | na |\n",
    "| 5 | は | ha |\n",
    "| 6 | ま | ma |\n",
    "| 7 | や | ya |\n",
    "| 8 | れ | re |\n",
    "| 9 | を | wo |"
   ]
  },
  {
   "cell_type": "markdown",
   "metadata": {},
   "source": [
    "## TODO: Insert your surname, name and ID number\n",
    "\n",
    "Student surname: Cano Amaro\n",
    "\n",
    "Student name: Germán\n",
    "    \n",
    "ID:46074312E"
   ]
  },
  {
   "cell_type": "code",
   "execution_count": 1,
   "metadata": {},
   "outputs": [],
   "source": [
    "import numpy as np\n",
    "import scipy as sp\n",
    "import matplotlib.pyplot as plt\n",
    "import pandas as pd\n",
    "\n",
    "import sklearn\n",
    "from sklearn.datasets import fetch_openml\n",
    "from sklearn.neural_network import MLPClassifier\n",
    "from sklearn.decomposition import PCA\n",
    "import sklearn.metrics as skm "
   ]
  },
  {
   "cell_type": "code",
   "execution_count": 2,
   "metadata": {},
   "outputs": [],
   "source": [
    "# helper function to load Kuzushiji-MNIST dataset\n",
    "def load_mnist(path, kind='train'):\n",
    "    import os\n",
    "    import gzip\n",
    "    import numpy as np\n",
    "    labels_path = os.path.join(path, 'K%s-labels-idx1-ubyte.gz' % kind)\n",
    "    images_path = os.path.join(path, 'K%s-images-idx3-ubyte.gz' % kind)\n",
    "    with gzip.open(labels_path, 'rb') as lbpath:\n",
    "        labels = np.frombuffer(lbpath.read(), dtype=np.uint8,offset=8)\n",
    "    with gzip.open(images_path, 'rb') as imgpath:\n",
    "        images = np.frombuffer(imgpath.read(), dtype=np.uint8,offset=16).reshape(len(labels), 784)\n",
    "    return images, labels"
   ]
  },
  {
   "cell_type": "code",
   "execution_count": 3,
   "metadata": {},
   "outputs": [],
   "source": [
    "#fix your ID (\"numero di matricola\") and the seed for random generator (as usual you can try different seeds)\n",
    "ID = 46074312\n",
    "np.random.seed(ID)"
   ]
  },
  {
   "cell_type": "code",
   "execution_count": 4,
   "metadata": {},
   "outputs": [
    {
     "name": "stdout",
     "output_type": "stream",
     "text": [
      "(60000, 784) (60000,)\n"
     ]
    }
   ],
   "source": [
    "#load the K-MNIST dataset from the 'data' folder and let's normalize the features so that each value is in [0,1] \n",
    "\n",
    "X, y = load_mnist('data', kind='train')\n",
    "# rescale the data\n",
    "X, y = X / 255., y # original pixel values are between 0 and 255\n",
    "print(X.shape, y.shape)"
   ]
  },
  {
   "cell_type": "markdown",
   "metadata": {},
   "source": [
    "Now split into training and test. Make sure that each label is present at least 10 times\n",
    "in training. If it is not, then keep adding permutations to the initial data until this \n",
    "happens."
   ]
  },
  {
   "cell_type": "code",
   "execution_count": 5,
   "metadata": {},
   "outputs": [
    {
     "name": "stdout",
     "output_type": "stream",
     "text": [
      "Labels in training dataset:  [0 1 2 3 4 5 6 7 8 9]\n",
      "Frequencies in training dataset:  [61 51 66 60 61 58 60 55 62 66]\n"
     ]
    }
   ],
   "source": [
    "# Random permute the data and split into training and test taking the first 600\n",
    "# data samples as training and 4000 samples as test\n",
    "permutation = np.random.permutation(X.shape[0])\n",
    "\n",
    "X = X[permutation]\n",
    "y = y[permutation]\n",
    "\n",
    "m_training = 600\n",
    "m_test = 4000\n",
    "\n",
    "X_train, X_test = X[:m_training], X[m_training:m_training+m_test:]\n",
    "y_train, y_test = y[:m_training], y[m_training:m_training+m_test:]\n",
    "\n",
    "labels, freqs = np.unique(y_train, return_counts=True)\n",
    "print(\"Labels in training dataset: \", labels)\n",
    "print(\"Frequencies in training dataset: \", freqs)\n"
   ]
  },
  {
   "cell_type": "code",
   "execution_count": 6,
   "metadata": {},
   "outputs": [],
   "source": [
    "#function for plotting a image and printing the corresponding label\n",
    "def plot_input(X_matrix, labels, index):\n",
    "    print(\"INPUT:\")\n",
    "    plt.imshow(\n",
    "        X_matrix[index].reshape(28,28),\n",
    "        cmap          = plt.cm.gray_r,\n",
    "        interpolation = \"nearest\"\n",
    "    )\n",
    "    plt.show()\n",
    "    print(\"LABEL: %i\"%labels[index])\n",
    "    return\n"
   ]
  },
  {
   "cell_type": "code",
   "execution_count": 7,
   "metadata": {},
   "outputs": [
    {
     "name": "stdout",
     "output_type": "stream",
     "text": [
      "INPUT:\n"
     ]
    },
    {
     "data": {
      "image/png": "[encoded data removed]",
      "text/plain": [
       "<Figure size 432x288 with 1 Axes>"
      ]
     },
     "metadata": {
      "needs_background": "light"
     },
     "output_type": "display_data"
    },
    {
     "name": "stdout",
     "output_type": "stream",
     "text": [
      "LABEL: 7\n",
      "INPUT:\n"
     ]
    },
    {
     "data": {
      "image/png": "[encoded data removed]",
      "text/plain": [
       "<Figure size 432x288 with 1 Axes>"
      ]
     },
     "metadata": {
      "needs_background": "light"
     },
     "output_type": "display_data"
    },
    {
     "name": "stdout",
     "output_type": "stream",
     "text": [
      "LABEL: 4\n",
      "INPUT:\n"
     ]
    },
    {
     "data": {
      "image/png": "[encoded data removed]",
      "text/plain": [
       "<Figure size 432x288 with 1 Axes>"
      ]
     },
     "metadata": {
      "needs_background": "light"
     },
     "output_type": "display_data"
    },
    {
     "name": "stdout",
     "output_type": "stream",
     "text": [
      "LABEL: 4\n",
      "INPUT:\n"
     ]
    },
    {
     "data": {
      "image/png": "[encoded data removed]",
      "text/plain": [
       "<Figure size 432x288 with 1 Axes>"
      ]
     },
     "metadata": {
      "needs_background": "light"
     },
     "output_type": "display_data"
    },
    {
     "name": "stdout",
     "output_type": "stream",
     "text": [
      "LABEL: 2\n"
     ]
    }
   ],
   "source": [
    "#let's try the plotting function\n",
    "plot_input(X_train,y_train,5)\n",
    "plot_input(X_test,y_test,50)\n",
    "plot_input(X_test,y_test,500)\n",
    "plot_input(X_test,y_test,700)"
   ]
  },
  {
   "cell_type": "markdown",
   "metadata": {},
   "source": [
    "## TO DO 1\n",
    "Use a SVM classifier with cross validation to pick a model. Use a 4-fold cross-validation. Let's start with a Linear kernel:"
   ]
  },
  {
   "cell_type": "code",
   "execution_count": 8,
   "metadata": {},
   "outputs": [
    {
     "name": "stdout",
     "output_type": "stream",
     "text": [
      "RESULTS FOR LINEAR KERNEL\n",
      "Best parameters set found: {'C': 0.01}\n",
      "Score with best parameters: 0.7516666666666666\n",
      "\n",
      " All scores on the grid: \n",
      "    mean_fit_time  std_fit_time  mean_score_time  std_score_time param_C  \\\n",
      "0       0.281249      0.024988         0.087164        0.008292    0.01   \n",
      "1       0.277444      0.016139         0.062032        0.008283     0.1   \n",
      "2       0.247152      0.006160         0.053250        0.003247       1   \n",
      "3       0.250514      0.004146         0.057656        0.004342      10   \n",
      "\n",
      "        params  split0_test_score  split1_test_score  split2_test_score  \\\n",
      "0  {'C': 0.01}           0.808333           0.733333           0.700000   \n",
      "1   {'C': 0.1}           0.716667           0.733333           0.683333   \n",
      "2     {'C': 1}           0.716667           0.733333           0.683333   \n",
      "3    {'C': 10}           0.716667           0.733333           0.683333   \n",
      "\n",
      "   split3_test_score  ...  mean_test_score  std_test_score  rank_test_score  \\\n",
      "0           0.766667  ...         0.751667        0.035901                1   \n",
      "1           0.733333  ...         0.708333        0.024721                2   \n",
      "2           0.733333  ...         0.708333        0.024721                2   \n",
      "3           0.733333  ...         0.708333        0.024721                2   \n",
      "\n",
      "   split0_train_score  split1_train_score  split2_train_score  \\\n",
      "0                 0.9            0.883333            0.904167   \n",
      "1                 1.0            1.000000            1.000000   \n",
      "2                 1.0            1.000000            1.000000   \n",
      "3                 1.0            1.000000            1.000000   \n",
      "\n",
      "   split3_train_score  split4_train_score  mean_train_score  std_train_score  \n",
      "0              0.8875            0.895833          0.894167         0.007728  \n",
      "1              1.0000            1.000000          1.000000         0.000000  \n",
      "2              1.0000            1.000000          1.000000         0.000000  \n",
      "3              1.0000            1.000000          1.000000         0.000000  \n",
      "\n",
      "[4 rows x 21 columns]\n"
     ]
    }
   ],
   "source": [
    "#import SVC\n",
    "from sklearn.svm import SVC\n",
    "#import for Cross-Validation\n",
    "from sklearn.model_selection import GridSearchCV\n",
    "\n",
    "# parameters for linear SVM\n",
    "parameters = {'C': [0.01, 0.1, 1, 10]}\n",
    "\n",
    "#train linear SVM\n",
    "\n",
    "lin=GridSearchCV(estimator=SVC(kernel='linear'), param_grid=parameters, return_train_score=True)\n",
    "\n",
    "lin.fit(X_train,y_train)\n",
    "\n",
    "print ('RESULTS FOR LINEAR KERNEL')\n",
    "\n",
    "print(\"Best parameters set found:\",lin.best_params_)\n",
    "\n",
    "\n",
    "print(\"Score with best parameters:\", lin.best_score_)\n",
    "\n",
    "\n",
    "print('\\n',\"All scores on the grid: \\n\", pd.DataFrame(lin.cv_results_))"
   ]
  },
  {
   "cell_type": "markdown",
   "metadata": {},
   "source": [
    "## TO DO 2\n",
    "Pick a model for the Polynomial kernel with degree=2:"
   ]
  },
  {
   "cell_type": "code",
   "execution_count": 9,
   "metadata": {},
   "outputs": [
    {
     "name": "stdout",
     "output_type": "stream",
     "text": [
      "RESULTS FOR POLY DEGREE=2 KERNEL\n",
      "Best parameters set found: {'C': 0.01, 'gamma': 0.1}\n",
      "Score with best parameters: 0.7633333333333333\n",
      "\n",
      " All scores on the grid: \n",
      "    mean_fit_time  std_fit_time  mean_score_time  std_score_time param_C  \\\n",
      "0       0.364453      0.015635         0.069852        0.002175    0.01   \n",
      "1       0.281635      0.007310         0.056845        0.002585    0.01   \n",
      "2       0.304767      0.008949         0.059240        0.006137    0.01   \n",
      "3       0.336905      0.019206         0.069610        0.003555     0.1   \n",
      "4       0.313532      0.015761         0.056650        0.008591     0.1   \n",
      "5       0.311340      0.024852         0.054878        0.006282     0.1   \n",
      "6       0.282463      0.010680         0.058456        0.002150       1   \n",
      "7       0.326937      0.028615         0.058450        0.003996       1   \n",
      "8       0.304376      0.006223         0.056253        0.005084       1   \n",
      "\n",
      "  param_gamma                      params  split0_test_score  \\\n",
      "0        0.01  {'C': 0.01, 'gamma': 0.01}           0.108333   \n",
      "1         0.1   {'C': 0.01, 'gamma': 0.1}           0.766667   \n",
      "2           1     {'C': 0.01, 'gamma': 1}           0.750000   \n",
      "3        0.01   {'C': 0.1, 'gamma': 0.01}           0.416667   \n",
      "4         0.1    {'C': 0.1, 'gamma': 0.1}           0.750000   \n",
      "5           1      {'C': 0.1, 'gamma': 1}           0.750000   \n",
      "6        0.01     {'C': 1, 'gamma': 0.01}           0.766667   \n",
      "7         0.1      {'C': 1, 'gamma': 0.1}           0.750000   \n",
      "8           1        {'C': 1, 'gamma': 1}           0.750000   \n",
      "\n",
      "   split1_test_score  split2_test_score  ...  mean_test_score  std_test_score  \\\n",
      "0           0.116667           0.108333  ...         0.116667        0.009129   \n",
      "1           0.758333           0.750000  ...         0.763333        0.008498   \n",
      "2           0.758333           0.708333  ...         0.748333        0.020683   \n",
      "3           0.391667           0.450000  ...         0.431667        0.024381   \n",
      "4           0.758333           0.708333  ...         0.746667        0.020138   \n",
      "5           0.758333           0.708333  ...         0.748333        0.020683   \n",
      "6           0.758333           0.750000  ...         0.763333        0.008498   \n",
      "7           0.758333           0.708333  ...         0.748333        0.020683   \n",
      "8           0.758333           0.708333  ...         0.748333        0.020683   \n",
      "\n",
      "   rank_test_score  split0_train_score  split1_train_score  \\\n",
      "0                9            0.110417            0.137500   \n",
      "1                1            0.966667            0.960417   \n",
      "2                3            1.000000            1.000000   \n",
      "3                8            0.516667            0.520833   \n",
      "4                7            1.000000            1.000000   \n",
      "5                3            1.000000            1.000000   \n",
      "6                1            0.966667            0.960417   \n",
      "7                3            1.000000            1.000000   \n",
      "8                3            1.000000            1.000000   \n",
      "\n",
      "   split2_train_score  split3_train_score  split4_train_score  \\\n",
      "0            0.110417            0.125000            0.127083   \n",
      "1            0.972917            0.972917            0.968750   \n",
      "2            1.000000            1.000000            1.000000   \n",
      "3            0.568750            0.512500            0.525000   \n",
      "4            1.000000            1.000000            1.000000   \n",
      "5            1.000000            1.000000            1.000000   \n",
      "6            0.972917            0.972917            0.968750   \n",
      "7            1.000000            1.000000            1.000000   \n",
      "8            1.000000            1.000000            1.000000   \n",
      "\n",
      "   mean_train_score  std_train_score  \n",
      "0          0.122083         0.010425  \n",
      "1          0.968333         0.004640  \n",
      "2          1.000000         0.000000  \n",
      "3          0.528750         0.020429  \n",
      "4          1.000000         0.000000  \n",
      "5          1.000000         0.000000  \n",
      "6          0.968333         0.004640  \n",
      "7          1.000000         0.000000  \n",
      "8          1.000000         0.000000  \n",
      "\n",
      "[9 rows x 22 columns]\n"
     ]
    }
   ],
   "source": [
    "# parameters for poly with degree 2 kernel\n",
    "parameters = {'C': [0.01, 0.1, 1],'gamma':[0.01,0.1,1]}\n",
    "\n",
    "#run SVM with poly of degree 2 kernel\n",
    "\n",
    "poly=GridSearchCV(estimator=SVC(kernel='poly',degree=2), param_grid=parameters, return_train_score=True)\n",
    "\n",
    "poly.fit(X_train, y_train)\n",
    "\n",
    "print ('RESULTS FOR POLY DEGREE=2 KERNEL')\n",
    "\n",
    "print(\"Best parameters set found:\", poly.best_params_)\n",
    "\n",
    "\n",
    "print(\"Score with best parameters:\", poly.best_score_)\n",
    "\n",
    "\n",
    "print(\"\\n\",\"All scores on the grid: \\n\", pd.DataFrame(poly.cv_results_))"
   ]
  },
  {
   "cell_type": "markdown",
   "metadata": {},
   "source": [
    "## TO DO 3\n",
    "\n",
    "Now let's try a higher degree for the polynomial kernel (e.g., 3rd degree)."
   ]
  },
  {
   "cell_type": "code",
   "execution_count": 10,
   "metadata": {},
   "outputs": [
    {
     "name": "stdout",
     "output_type": "stream",
     "text": [
      "RESULTS FOR POLY DEGREE= 3  KERNEL\n",
      "Best parameters set found: {'C': 0.01, 'gamma': 0.1}\n",
      "Score with best parameters: 0.7033333333333334\n",
      "\n",
      " All scores on the grid: \n",
      "    mean_fit_time  std_fit_time  mean_score_time  std_score_time param_C  \\\n",
      "0       0.363410      0.014275         0.071429        0.005267    0.01   \n",
      "1       0.329726      0.006925         0.055051        0.002486    0.01   \n",
      "2       0.330718      0.009040         0.055936        0.003603    0.01   \n",
      "3       0.332918      0.002911         0.070212        0.002636     0.1   \n",
      "4       0.326340      0.003592         0.052265        0.002541     0.1   \n",
      "5       0.326515      0.004132         0.055472        0.005934     0.1   \n",
      "6       0.338485      0.019687         0.065034        0.007542       1   \n",
      "7       0.350844      0.030365         0.058846        0.005852       1   \n",
      "8       0.328313      0.011336         0.062631        0.015052       1   \n",
      "\n",
      "  param_gamma                      params  split0_test_score  \\\n",
      "0        0.01  {'C': 0.01, 'gamma': 0.01}           0.108333   \n",
      "1         0.1   {'C': 0.01, 'gamma': 0.1}           0.683333   \n",
      "2           1     {'C': 0.01, 'gamma': 1}           0.700000   \n",
      "3        0.01   {'C': 0.1, 'gamma': 0.01}           0.308333   \n",
      "4         0.1    {'C': 0.1, 'gamma': 0.1}           0.700000   \n",
      "5           1      {'C': 0.1, 'gamma': 1}           0.700000   \n",
      "6        0.01     {'C': 1, 'gamma': 0.01}           0.700000   \n",
      "7         0.1      {'C': 1, 'gamma': 0.1}           0.700000   \n",
      "8           1        {'C': 1, 'gamma': 1}           0.700000   \n",
      "\n",
      "   split1_test_score  split2_test_score  ...  mean_test_score  std_test_score  \\\n",
      "0           0.116667           0.108333  ...         0.110000        0.003333   \n",
      "1           0.725000           0.708333  ...         0.703333        0.017159   \n",
      "2           0.700000           0.683333  ...         0.691667        0.010541   \n",
      "3           0.325000           0.416667  ...         0.351667        0.037786   \n",
      "4           0.700000           0.683333  ...         0.691667        0.010541   \n",
      "5           0.700000           0.683333  ...         0.691667        0.010541   \n",
      "6           0.675000           0.750000  ...         0.691667        0.035355   \n",
      "7           0.700000           0.683333  ...         0.691667        0.010541   \n",
      "8           0.700000           0.683333  ...         0.691667        0.010541   \n",
      "\n",
      "   rank_test_score  split0_train_score  split1_train_score  \\\n",
      "0                9            0.110417            0.114583   \n",
      "1                1            1.000000            1.000000   \n",
      "2                2            1.000000            1.000000   \n",
      "3                8            0.493750            0.485417   \n",
      "4                2            1.000000            1.000000   \n",
      "5                2            1.000000            1.000000   \n",
      "6                2            0.947917            0.939583   \n",
      "7                2            1.000000            1.000000   \n",
      "8                2            1.000000            1.000000   \n",
      "\n",
      "   split2_train_score  split3_train_score  split4_train_score  \\\n",
      "0            0.110417            0.116667            0.116667   \n",
      "1            1.000000            0.997917            0.993750   \n",
      "2            1.000000            1.000000            1.000000   \n",
      "3            0.512500            0.500000            0.477083   \n",
      "4            1.000000            1.000000            1.000000   \n",
      "5            1.000000            1.000000            1.000000   \n",
      "6            0.958333            0.943750            0.947917   \n",
      "7            1.000000            1.000000            1.000000   \n",
      "8            1.000000            1.000000            1.000000   \n",
      "\n",
      "   mean_train_score  std_train_score  \n",
      "0          0.113750         0.002826  \n",
      "1          0.998333         0.002430  \n",
      "2          1.000000         0.000000  \n",
      "3          0.493750         0.012148  \n",
      "4          1.000000         0.000000  \n",
      "5          1.000000         0.000000  \n",
      "6          0.947500         0.006236  \n",
      "7          1.000000         0.000000  \n",
      "8          1.000000         0.000000  \n",
      "\n",
      "[9 rows x 22 columns]\n"
     ]
    }
   ],
   "source": [
    "# parameters for poly with higher degree kernel\n",
    "parameters = {'C': [0.01, 0.1, 1],'gamma':[0.01,0.1,1]}\n",
    "\n",
    "#run SVM with poly of higher degree kernel\n",
    "degree = 3#by default the degree un SCV() is 3\n",
    "poly2=GridSearchCV(estimator=SVC(kernel='poly'), param_grid=parameters, return_train_score=True)\n",
    "\n",
    "poly2.fit(X_train,y_train)\n",
    "\n",
    "print ('RESULTS FOR POLY DEGREE=', degree, ' KERNEL')\n",
    "\n",
    "print(\"Best parameters set found:\", poly2.best_params_)\n",
    "\n",
    "\n",
    "print(\"Score with best parameters:\", poly2.best_score_)\n",
    "\n",
    "\n",
    "print(\"\\n\",\"All scores on the grid: \\n\", pd.DataFrame(poly2.cv_results_))"
   ]
  },
  {
   "cell_type": "markdown",
   "metadata": {},
   "source": [
    "## TO DO 4\n",
    "Pick a model for the Radial Basis Function kernel:"
   ]
  },
  {
   "cell_type": "code",
   "execution_count": 11,
   "metadata": {},
   "outputs": [
    {
     "name": "stdout",
     "output_type": "stream",
     "text": [
      "RESULTS FOR rbf KERNEL\n",
      "Best parameters set found: {'C': 10, 'gamma': 0.01}\n",
      "Score with best parameters: 0.7833333333333333\n",
      "\n",
      " All scores on the grid: \n",
      "     mean_fit_time  std_fit_time  mean_score_time  std_score_time param_C  \\\n",
      "0        0.394356      0.018258         0.148000        0.010865     0.1   \n",
      "1        0.396936      0.028249         0.144604        0.014949     0.1   \n",
      "2        0.459574      0.038146         0.165557        0.017391     0.1   \n",
      "3        0.413108      0.032818         0.143811        0.011088     0.1   \n",
      "4        0.343495      0.008931         0.139408        0.004704       1   \n",
      "5        0.382175      0.012107         0.134836        0.001324       1   \n",
      "6        0.407682      0.003465         0.139422        0.003117       1   \n",
      "7        0.398945      0.001651         0.138825        0.002467       1   \n",
      "8        0.248924      0.005566         0.122674        0.001099      10   \n",
      "9        0.393922      0.003980         0.134240        0.002329      10   \n",
      "10       0.407529      0.002565         0.140588        0.003744      10   \n",
      "11       0.417499      0.010468         0.140226        0.003759      10   \n",
      "12       0.293018      0.011034         0.121671        0.001078     100   \n",
      "13       0.407721      0.024881         0.140817        0.013375     100   \n",
      "14       0.413272      0.008234         0.138837        0.003523     100   \n",
      "15       0.409905      0.002162         0.139402        0.004664     100   \n",
      "\n",
      "   param_gamma                      params  split0_test_score  \\\n",
      "0        0.001  {'C': 0.1, 'gamma': 0.001}           0.108333   \n",
      "1         0.01   {'C': 0.1, 'gamma': 0.01}           0.191667   \n",
      "2          0.1    {'C': 0.1, 'gamma': 0.1}           0.108333   \n",
      "3            1      {'C': 0.1, 'gamma': 1}           0.108333   \n",
      "4        0.001    {'C': 1, 'gamma': 0.001}           0.641667   \n",
      "5         0.01     {'C': 1, 'gamma': 0.01}           0.816667   \n",
      "6          0.1      {'C': 1, 'gamma': 0.1}           0.125000   \n",
      "7            1        {'C': 1, 'gamma': 1}           0.108333   \n",
      "8        0.001   {'C': 10, 'gamma': 0.001}           0.808333   \n",
      "9         0.01    {'C': 10, 'gamma': 0.01}           0.800000   \n",
      "10         0.1     {'C': 10, 'gamma': 0.1}           0.166667   \n",
      "11           1       {'C': 10, 'gamma': 1}           0.108333   \n",
      "12       0.001  {'C': 100, 'gamma': 0.001}           0.741667   \n",
      "13        0.01   {'C': 100, 'gamma': 0.01}           0.800000   \n",
      "14         0.1    {'C': 100, 'gamma': 0.1}           0.166667   \n",
      "15           1      {'C': 100, 'gamma': 1}           0.108333   \n",
      "\n",
      "    split1_test_score  split2_test_score  ...  mean_test_score  \\\n",
      "0            0.166667           0.108333  ...         0.146667   \n",
      "1            0.191667           0.133333  ...         0.193333   \n",
      "2            0.166667           0.108333  ...         0.136667   \n",
      "3            0.108333           0.108333  ...         0.125000   \n",
      "4            0.591667           0.591667  ...         0.623333   \n",
      "5            0.741667           0.741667  ...         0.773333   \n",
      "6            0.166667           0.133333  ...         0.156667   \n",
      "7            0.108333           0.108333  ...         0.110000   \n",
      "8            0.750000           0.725000  ...         0.755000   \n",
      "9            0.783333           0.750000  ...         0.783333   \n",
      "10           0.191667           0.150000  ...         0.176667   \n",
      "11           0.108333           0.108333  ...         0.113333   \n",
      "12           0.733333           0.691667  ...         0.730000   \n",
      "13           0.783333           0.750000  ...         0.783333   \n",
      "14           0.191667           0.150000  ...         0.176667   \n",
      "15           0.108333           0.108333  ...         0.113333   \n",
      "\n",
      "    std_test_score  rank_test_score  split0_train_score  split1_train_score  \\\n",
      "0         0.031885               11            0.110417            0.191667   \n",
      "1         0.035119                7            0.227083            0.256250   \n",
      "2         0.024495               12            0.110417            0.220833   \n",
      "3         0.033333               13            0.110417            0.220833   \n",
      "4         0.035119                6            0.679167            0.697917   \n",
      "5         0.029059                3            0.975000            0.975000   \n",
      "6         0.024381               10            1.000000            1.000000   \n",
      "7         0.003333               16            1.000000            1.000000   \n",
      "8         0.029155                4            0.968750            0.962500   \n",
      "9         0.017480                1            1.000000            1.000000   \n",
      "10        0.017795                8            1.000000            1.000000   \n",
      "11        0.010000               14            1.000000            1.000000   \n",
      "12        0.025055                5            1.000000            1.000000   \n",
      "13        0.017480                1            1.000000            1.000000   \n",
      "14        0.017795                8            1.000000            1.000000   \n",
      "15        0.010000               14            1.000000            1.000000   \n",
      "\n",
      "    split2_train_score  split3_train_score  split4_train_score  \\\n",
      "0             0.110417            0.183333            0.187500   \n",
      "1             0.187500            0.245833            0.235417   \n",
      "2             0.110417            0.220833            0.220833   \n",
      "3             0.110417            0.220833            0.220833   \n",
      "4             0.710417            0.660417            0.691667   \n",
      "5             0.970833            0.970833            0.972917   \n",
      "6             1.000000            1.000000            1.000000   \n",
      "7             1.000000            1.000000            1.000000   \n",
      "8             0.960417            0.960417            0.960417   \n",
      "9             1.000000            1.000000            1.000000   \n",
      "10            1.000000            1.000000            1.000000   \n",
      "11            1.000000            1.000000            1.000000   \n",
      "12            1.000000            1.000000            1.000000   \n",
      "13            1.000000            1.000000            1.000000   \n",
      "14            1.000000            1.000000            1.000000   \n",
      "15            1.000000            1.000000            1.000000   \n",
      "\n",
      "    mean_train_score  std_train_score  \n",
      "0           0.156667         0.037855  \n",
      "1           0.230417         0.023592  \n",
      "2           0.176667         0.054093  \n",
      "3           0.176667         0.054093  \n",
      "4           0.687917         0.017048  \n",
      "5           0.972917         0.001863  \n",
      "6           1.000000         0.000000  \n",
      "7           1.000000         0.000000  \n",
      "8           0.962500         0.003227  \n",
      "9           1.000000         0.000000  \n",
      "10          1.000000         0.000000  \n",
      "11          1.000000         0.000000  \n",
      "12          1.000000         0.000000  \n",
      "13          1.000000         0.000000  \n",
      "14          1.000000         0.000000  \n",
      "15          1.000000         0.000000  \n",
      "\n",
      "[16 rows x 22 columns]\n"
     ]
    }
   ],
   "source": [
    "# parameters for rbf SVM\n",
    "parameters = {'C': [0.1, 1, 10, 100],'gamma':[0.001, 0.01, 0.1,1]}\n",
    "\n",
    "#run SVM with rbf kernel\n",
    "\n",
    "rbf=GridSearchCV(estimator=SVC(kernel='rbf'), param_grid=parameters, return_train_score=True)\n",
    "\n",
    "rbf.fit(X_train,y_train)\n",
    "\n",
    "print ('RESULTS FOR rbf KERNEL')\n",
    "\n",
    "print(\"Best parameters set found:\", rbf.best_params_)\n",
    "\n",
    "\n",
    "print(\"Score with best parameters:\", rbf.best_score_)\n",
    "\n",
    "print(\"\\n\",\"All scores on the grid: \\n\", pd.DataFrame(rbf.cv_results_))"
   ]
  },
  {
   "cell_type": "markdown",
   "metadata": {},
   "source": [
    "## QUESTION 1\n",
    "What do you observe when using linear, polynomial and RBF kernels on this dataset ?"
   ]
  },
  {
   "cell_type": "markdown",
   "metadata": {},
   "source": [
    "We can observe how using RBF we obtain the best score. The polynomial kernel increase its precision until degree 2, after that the score drop."
   ]
  },
  {
   "cell_type": "markdown",
   "metadata": {},
   "source": [
    "## TO DO 5\n",
    "Report here the best SVM kernel and parameters"
   ]
  },
  {
   "cell_type": "code",
   "execution_count": 12,
   "metadata": {},
   "outputs": [
    {
     "name": "stdout",
     "output_type": "stream",
     "text": [
      "Best SVM training error: 0.000000\n",
      "Best SVM test error: 0.184000\n"
     ]
    }
   ],
   "source": [
    "#get training and test error for the best SVM model from CV\n",
    "best_SVM = rbf\n",
    "\n",
    "training_error=1-best_SVM.score(X_train, y_train)\n",
    "\n",
    "test_error = 1-best_SVM.score(X_test, y_test)\n",
    "\n",
    "# (error is 1 - svm.score)\n",
    "\n",
    "print (\"Best SVM training error: %f\" % training_error)\n",
    "print (\"Best SVM test error: %f\" % test_error)\n"
   ]
  },
  {
   "cell_type": "markdown",
   "metadata": {},
   "source": [
    "## TO DO 6\n",
    "\n",
    "Analyze how the gamma parameter (inversely proportional to standard deviation of Gaussian Kernel) impact the performances of the classifier"
   ]
  },
  {
   "cell_type": "code",
   "execution_count": 13,
   "metadata": {},
   "outputs": [
    {
     "name": "stdout",
     "output_type": "stream",
     "text": [
      "[1.e-05 1.e-04 1.e-03 1.e-02 1.e-01 1.e+00 1.e+01 1.e+02]\n"
     ]
    }
   ],
   "source": [
    "#Test with different values of gamma\n",
    "\n",
    "# Set gamma values\n",
    "gamma_values = np.logspace(-5,2,8)\n",
    "print(gamma_values)\n"
   ]
  },
  {
   "cell_type": "code",
   "execution_count": 14,
   "metadata": {},
   "outputs": [
    {
     "name": "stdout",
     "output_type": "stream",
     "text": [
      "[0.15625    0.15708333 0.68791667 0.97291667 1.         1.\n",
      " 1.         1.        ]\n",
      "[0.145      0.145      0.62333333 0.77333333 0.15666667 0.11\n",
      " 0.15333333 0.10833333]\n"
     ]
    },
    {
     "data": {
      "image/png": "[encoded data removed]",
      "text/plain": [
       "<Figure size 1080x360 with 2 Axes>"
      ]
     },
     "metadata": {
      "needs_background": "light"
     },
     "output_type": "display_data"
    }
   ],
   "source": [
    "# Try the SVM with the previously set values of gamma\n",
    "# use rbf kernel and C=1\n",
    "\n",
    "train_acc_list, test_acc_list = [], []\n",
    "\n",
    "\n",
    "parameters2={'C':[1],'gamma':gamma_values}\n",
    "\n",
    "rbf2=GridSearchCV(estimator=SVC(kernel='rbf'), param_grid=parameters2,return_train_score=True)\n",
    "\n",
    "rbf2.fit(X_train, y_train)\n",
    "\n",
    "train_acc_list=rbf2.cv_results_['mean_train_score']\n",
    "    \n",
    "test_acc_list=rbf2.cv_results_['mean_test_score']\n",
    "    \n",
    "\n",
    "print(train_acc_list)\n",
    "print(test_acc_list)\n",
    "    \n",
    "# ADD YOUR CODE TO TRAIN THE SVM MULTIPLE TIMES WITH THE DIFFERENT VALUES OF GAMMA\n",
    "# PLACE THE TRAIN AND TEST ACCURACY FOR EACH TEST IN THE TRAIN AND TEST ACCURACY LISTS\n",
    "\n",
    "# Plot\n",
    "fig, ax = plt.subplots(1,2, figsize=(15,5))\n",
    "\n",
    "ax[0].plot(gamma_values, train_acc_list)\n",
    "ax[0].set_xscale('log')\n",
    "ax[0].set_xlabel('gamma')\n",
    "ax[0].set_ylabel('Train accuracy')\n",
    "ax[0].grid(True)\n",
    "\n",
    "ax[1].plot(gamma_values, test_acc_list)\n",
    "ax[1].set_xscale('log')\n",
    "ax[1].set_xlabel('gamma')\n",
    "ax[1].set_ylabel('Test accuracy')\n",
    "ax[1].grid(True)\n",
    "\n",
    "\n",
    "plt.show()"
   ]
  },
  {
   "cell_type": "markdown",
   "metadata": {},
   "source": [
    "## QUESTION 2\n",
    "How do the train and test error change when changing gamma ? Which is the best value of gamma ? \n",
    "Connect your answers to the discussion about the overfitting issue."
   ]
  },
  {
   "cell_type": "raw",
   "metadata": {},
   "source": [
    "The train error goes down for higher values of gamma until up to gamma=10^(-1) the errror is zero and stay constant. On the other hand for the test accuracy we observe that the error never is zero neither have the same form as the train error. They are almost equal until gamma=0.1 where the test error have a minimun but up to where the error increase. This disonance between the two error is probably due to overfitting, since the algorithm is overfitted it is not able to predict correctly over the training set which error representation should have the same form as the training error representation."
   ]
  },
  {
   "cell_type": "markdown",
   "metadata": {},
   "source": [
    "## More data\n",
    "Now let's do the same but using more data points for training.\n",
    "\n",
    "\n",
    "Choose a new number of data points."
   ]
  },
  {
   "cell_type": "code",
   "execution_count": 15,
   "metadata": {},
   "outputs": [
    {
     "name": "stdout",
     "output_type": "stream",
     "text": [
      "Labels in training dataset:  [0 1 2 3 4 5 6 7 8 9]\n",
      "Frequencies in training dataset:  [199 200 169 207 214 217 190 188 218 198]\n"
     ]
    }
   ],
   "source": [
    "X = X[permutation]\n",
    "y = y[permutation]\n",
    "\n",
    "m_training = 2000 # TODO number of data points, adjust depending on the capabilities of your PC\n",
    "\n",
    "X_train, X_test = X[:m_training], X[m_training:]\n",
    "y_train, y_test = y[:m_training], y[m_training:]\n",
    "\n",
    "labels, freqs = np.unique(y_train, return_counts=True)\n",
    "print(\"Labels in training dataset: \", labels)\n",
    "print(\"Frequencies in training dataset: \", freqs)"
   ]
  },
  {
   "cell_type": "markdown",
   "metadata": {},
   "source": [
    "## TO DO 7\n",
    "\n",
    "Let's try to use SVM with parameters obtained from the best model for $m_{training} =  2000$. Since it may take a long time to run, you can decide to just let it run for some time and stop it if it does not complete. If you decide to do this, report it in the cell below."
   ]
  },
  {
   "cell_type": "code",
   "execution_count": 16,
   "metadata": {
    "scrolled": true
   },
   "outputs": [
    {
     "name": "stdout",
     "output_type": "stream",
     "text": [
      "Best SVM training error: 0.179500\n",
      "Best SVM test error: 0.183569\n"
     ]
    }
   ],
   "source": [
    "#get training and test error for the best SVM model from CV\n",
    "best_SVM = rbf\n",
    "\n",
    "training_error=1-best_SVM.score(X_train, y_train)\n",
    "\n",
    "test_error = 1-best_SVM.score(X_test, y_test)\n",
    "\n",
    "# (error is 1 - svm.score)\n",
    "\n",
    "print (\"Best SVM training error: %f\" % training_error)\n",
    "print (\"Best SVM test error: %f\" % test_error)"
   ]
  },
  {
   "cell_type": "markdown",
   "metadata": {},
   "source": [
    "Just for comparison, let's also use logistic regression \n",
    "\n",
    "## TO DO 8 Try first without regularization (use a very large large C)¶"
   ]
  },
  {
   "cell_type": "code",
   "execution_count": 17,
   "metadata": {},
   "outputs": [
    {
     "name": "stderr",
     "output_type": "stream",
     "text": [
      "C:\\Users\\germa\\anaconda3\\lib\\site-packages\\sklearn\\linear_model\\_logistic.py:814: ConvergenceWarning: lbfgs failed to converge (status=1):\n",
      "STOP: TOTAL NO. of ITERATIONS REACHED LIMIT.\n",
      "\n",
      "Increase the number of iterations (max_iter) or scale the data as shown in:\n",
      "    https://scikit-learn.org/stable/modules/preprocessing.html\n",
      "Please also refer to the documentation for alternative solver options:\n",
      "    https://scikit-learn.org/stable/modules/linear_model.html#logistic-regression\n",
      "  n_iter_i = _check_optimize_result(\n"
     ]
    },
    {
     "name": "stdout",
     "output_type": "stream",
     "text": [
      "Best logistic regression training error: 0.000000\n",
      "Best logistic regression test error: 0.265759\n"
     ]
    }
   ],
   "source": [
    "from sklearn import linear_model\n",
    "\n",
    "logreg=linear_model.LogisticRegression(C=1e5)\n",
    "\n",
    "logreg.fit(X_train, y_train)\n",
    "\n",
    "training_error = 1-logreg.score(X_train, y_train)\n",
    "test_error = 1-logreg.score(X_test, y_test)\n",
    "\n",
    "print (\"Best logistic regression training error: %f\" % training_error)\n",
    "print (\"Best logistic regression test error: %f\" % test_error)"
   ]
  },
  {
   "cell_type": "markdown",
   "metadata": {},
   "source": [
    "## TO DO 9 Try  with regularization (use C=1)¶"
   ]
  },
  {
   "cell_type": "code",
   "execution_count": 18,
   "metadata": {},
   "outputs": [
    {
     "name": "stderr",
     "output_type": "stream",
     "text": [
      "C:\\Users\\germa\\anaconda3\\lib\\site-packages\\sklearn\\linear_model\\_logistic.py:814: ConvergenceWarning: lbfgs failed to converge (status=1):\n",
      "STOP: TOTAL NO. of ITERATIONS REACHED LIMIT.\n",
      "\n",
      "Increase the number of iterations (max_iter) or scale the data as shown in:\n",
      "    https://scikit-learn.org/stable/modules/preprocessing.html\n",
      "Please also refer to the documentation for alternative solver options:\n",
      "    https://scikit-learn.org/stable/modules/linear_model.html#logistic-regression\n",
      "  n_iter_i = _check_optimize_result(\n"
     ]
    },
    {
     "name": "stdout",
     "output_type": "stream",
     "text": [
      "Best regularized logistic regression training error: 0.000000\n",
      "Best regularized logistic regression test error: 0.244086\n"
     ]
    }
   ],
   "source": [
    "logreg2=linear_model.LogisticRegression(C=1)\n",
    "\n",
    "logreg2.fit(X_train, y_train)\n",
    "\n",
    "training_error = 1-logreg2.score(X_train, y_train)\n",
    "test_error = 1-logreg2.score(X_test, y_test)\n",
    "print (\"Best regularized logistic regression training error: %f\" % training_error)\n",
    "print (\"Best regularized logistic regression test error: %f\" % test_error)\n"
   ]
  },
  {
   "cell_type": "markdown",
   "metadata": {},
   "source": [
    "## QUESTION 3\n",
    "Compare and discuss:\n",
    "- the results from SVM with m=600 and with m=2000 training data points. If you stopped the SVM, include such aspect in your comparison.\n",
    "- the results of SVM and of Logistic Regression"
   ]
  },
  {
   "cell_type": "markdown",
   "metadata": {},
   "source": [
    "For m=2000:\n",
    "\n",
    "Best SVM training error: 0.179500\n",
    "Best SVM test error: 0.183569\n",
    "\n",
    "Best logistic regression training error: 0.000000\n",
    "Best logistic regression test error: 0.265759\n",
    "\n",
    "Best regularized logistic regression training error: 0.000000\n",
    "Best regularized logistic regression test error: 0.244086\n",
    "\n",
    "We can observe how for the SVM algorithm the error of the training and test set are almost equal, which point to a good fitting.\n",
    "The Logistic Regression algorithm has errors who differs notably from the training and test set independently on the value of the parameter (C) in charge of the stabilization. This could possibly mean that the algorithm is overfitting.\n",
    "Taking that into account we can see how even though the training error of the Linear Regression algorithm is almost nule, the SVM makes a better aproximation\n",
    "\n",
    "For m=600:\n",
    "\n",
    "Best SVM training error: 0.185000\n",
    "Best SVM test error: 0.183418\n",
    "\n",
    "Best logistic regression training error: 0.000000\n",
    "Best logistic regression test error: 0.274764\n",
    "\n",
    "Best regularized logistic regression training error: 0.000000\n",
    "Best regularized logistic regression test error: 0.271397\n",
    "\n",
    "Again the SVM algorithm shows the best results, even better at first sight than for m=2000, the linear regression algorithm shows worse results for both C large and small."
   ]
  },
  {
   "cell_type": "markdown",
   "metadata": {},
   "source": [
    "## TO DO 10\n",
    "Plot an item of clothing that is missclassified by logistic regression and correctly classified by SVM."
   ]
  },
  {
   "cell_type": "code",
   "execution_count": 19,
   "metadata": {},
   "outputs": [
    {
     "name": "stdout",
     "output_type": "stream",
     "text": [
      "INPUT:\n"
     ]
    },
    {
     "data": {
      "image/png": "[encoded data removed]",
      "text/plain": [
       "<Figure size 432x288 with 1 Axes>"
      ]
     },
     "metadata": {
      "needs_background": "light"
     },
     "output_type": "display_data"
    },
    {
     "name": "stdout",
     "output_type": "stream",
     "text": [
      "LABEL: 2\n"
     ]
    }
   ],
   "source": [
    "LR_prediction = logreg2.predict(X_train)\n",
    "SVM_prediction = best_SVM.predict(X_train)\n",
    "\n",
    "sem=True\n",
    "i=0#i is going to be the index of the first misclassified sample\n",
    "while sem:\n",
    "    if LR_prediction[i]==SVM_prediction[i]:\n",
    "        i+=1\n",
    "    else:\n",
    "        sem=False\n",
    "        i+=1\n",
    "    \n",
    "plot_input(X_train,y_train,i)"
   ]
  },
  {
   "cell_type": "markdown",
   "metadata": {},
   "source": [
    "## TO DO 11\n",
    "Plot the confusion matrix for the SVM classifier and for logistic regression.\n",
    "The confusion matrix has one column for each predicted label and one row for each true label. \n",
    "It shows for each class in the corresponding row how many samples belonging to that class gets each possible output label.\n",
    "Notice that the diagonal contains the correctly classified samples, while the other cells correspond to errors.\n",
    "You can obtain it with the sklearn.metrics.confusion_matrix function (see the documentation).\n",
    "Try also to normalize the confusion matrix by the number of samples in each class in order to measure the accuracy on each single class.\n"
   ]
  },
  {
   "cell_type": "code",
   "execution_count": 20,
   "metadata": {},
   "outputs": [
    {
     "name": "stdout",
     "output_type": "stream",
     "text": [
      "Labels and frequencies in test set:  [5801 5800 5831 5793 5786 5783 5810 5812 5782 5802]\n",
      "\n",
      " Confusion matrix SVM  \n",
      " \n",
      " [[181   0   0   4   3   5   0   2   1   3]\n",
      " [  3 135  14   3   5   8   8   1  13  10]\n",
      " [  0   7 128   2   4   2  15   0   9   2]\n",
      " [  1   2   4 189   0   6   0   0   5   0]\n",
      " [ 11   3  10   1 157   1   4   1   5  21]\n",
      " [  2   1   9   6   2 191   3   1   2   0]\n",
      " [  3   5  10   6  15   2 144   4   1   0]\n",
      " [  1   0   7   4   8   2   2 163   0   1]\n",
      " [  4   5   8   1   0   7   9   0 183   1]\n",
      " [  5   3   9   2   4   0   0   0   5 170]]\n",
      "\n",
      " Confusion matrix SVM (normalized)   \n",
      " \n",
      " [[0.03 0.   0.   0.   0.   0.   0.   0.   0.   0.  ]\n",
      " [0.   0.02 0.   0.   0.   0.   0.   0.   0.   0.  ]\n",
      " [0.   0.   0.02 0.   0.   0.   0.   0.   0.   0.  ]\n",
      " [0.   0.   0.   0.03 0.   0.   0.   0.   0.   0.  ]\n",
      " [0.   0.   0.   0.   0.03 0.   0.   0.   0.   0.  ]\n",
      " [0.   0.   0.   0.   0.   0.03 0.   0.   0.   0.  ]\n",
      " [0.   0.   0.   0.   0.   0.   0.02 0.   0.   0.  ]\n",
      " [0.   0.   0.   0.   0.   0.   0.   0.03 0.   0.  ]\n",
      " [0.   0.   0.   0.   0.   0.   0.   0.   0.03 0.  ]\n",
      " [0.   0.   0.   0.   0.   0.   0.   0.   0.   0.03]]\n",
      "\n",
      " Confusion matrix LR  \n",
      " \n",
      " [[199   0   0   0   0   0   0   0   0   0]\n",
      " [  0 200   0   0   0   0   0   0   0   0]\n",
      " [  0   0 169   0   0   0   0   0   0   0]\n",
      " [  0   0   0 207   0   0   0   0   0   0]\n",
      " [  0   0   0   0 214   0   0   0   0   0]\n",
      " [  0   0   0   0   0 217   0   0   0   0]\n",
      " [  0   0   0   0   0   0 190   0   0   0]\n",
      " [  0   0   0   0   0   0   0 188   0   0]\n",
      " [  0   0   0   0   0   0   0   0 218   0]\n",
      " [  0   0   0   0   0   0   0   0   0 198]]\n",
      "\n",
      " Confusion matrix LR (normalized)   \n",
      " \n",
      " [[0.03 0.   0.   0.   0.   0.   0.   0.   0.   0.  ]\n",
      " [0.   0.03 0.   0.   0.   0.   0.   0.   0.   0.  ]\n",
      " [0.   0.   0.03 0.   0.   0.   0.   0.   0.   0.  ]\n",
      " [0.   0.   0.   0.04 0.   0.   0.   0.   0.   0.  ]\n",
      " [0.   0.   0.   0.   0.04 0.   0.   0.   0.   0.  ]\n",
      " [0.   0.   0.   0.   0.   0.04 0.   0.   0.   0.  ]\n",
      " [0.   0.   0.   0.   0.   0.   0.03 0.   0.   0.  ]\n",
      " [0.   0.   0.   0.   0.   0.   0.   0.03 0.   0.  ]\n",
      " [0.   0.   0.   0.   0.   0.   0.   0.   0.04 0.  ]\n",
      " [0.   0.   0.   0.   0.   0.   0.   0.   0.   0.03]]\n"
     ]
    }
   ],
   "source": [
    "np.set_printoptions(precision=2, suppress=True) # for better aligned printing of confusion matrix use floatmode='fixed'\n",
    "\n",
    "u, counts = np.unique(y_test, return_counts=True)\n",
    "print(\"Labels and frequencies in test set: \", counts)\n",
    "\n",
    "confusion_SVM = skm.confusion_matrix(y_train,SVM_prediction)\n",
    "print(\"\\n Confusion matrix SVM  \\n \\n\", confusion_SVM)\n",
    "print(\"\\n Confusion matrix SVM (normalized)   \\n \\n\", confusion_SVM /counts[:,None] )\n",
    "\n",
    "confusion_LR =  skm.confusion_matrix(y_train,LR_prediction)\n",
    "print(\"\\n Confusion matrix LR  \\n \\n\", confusion_LR)\n",
    "print(\"\\n Confusion matrix LR (normalized)   \\n \\n\", confusion_LR /counts[:,None] )"
   ]
  },
  {
   "cell_type": "code",
   "execution_count": 21,
   "metadata": {},
   "outputs": [
    {
     "data": {
      "image/png": "[encoded data removed]",
      "text/plain": [
       "<Figure size 432x288 with 2 Axes>"
      ]
     },
     "metadata": {
      "needs_background": "light"
     },
     "output_type": "display_data"
    },
    {
     "data": {
      "image/png": "[encoded data removed]",
      "text/plain": [
       "<Figure size 432x288 with 2 Axes>"
      ]
     },
     "metadata": {
      "needs_background": "light"
     },
     "output_type": "display_data"
    }
   ],
   "source": [
    "# ADD CODE TO NORMALIZE CONFUSION MATRIX AND PRINT THE NORMALIZED MATRIX\n",
    "#code to print the confusion matrix\n",
    "\n",
    "SVM_gr= skm.ConfusionMatrixDisplay(confusion_matrix=confusion_SVM)\n",
    "\n",
    "LR_gr= skm.ConfusionMatrixDisplay(confusion_matrix=confusion_LR)\n",
    "\n",
    "SVM_gr.plot()\n",
    "LR_gr.plot()\n",
    "\n",
    "plt.show()\n"
   ]
  },
  {
   "cell_type": "markdown",
   "metadata": {},
   "source": [
    "## QUESTION 4\n",
    "Have a look at the confusion matrices and comment on the obtained accuracies. Why some classes have lower accuracies and others an higher one ? Make some guesses on the possible causes.\n"
   ]
  },
  {
   "cell_type": "markdown",
   "metadata": {},
   "source": [
    "The results obtained, agree with the ones for the previous question. Befor we obtained a zero error on the train set for the linear regression algorithm, this is shown on the confusion matrix where we can see how it is diagonal, corresponding each value to the total count for each label (also previously obtained).\n",
    "\n",
    "For the SVM algorithm the error was not zero, that joint to the fact that each label appears a different numbers of times, give us an explanation of why some classes accuracies differs."
   ]
  }
 ],
 "metadata": {
  "kernelspec": {
   "display_name": "Python 3 (ipykernel)",
   "language": "python",
   "name": "python3"
  },
  "language_info": {
   "codemirror_mode": {
    "name": "ipython",
    "version": 3
   },
   "file_extension": ".py",
   "mimetype": "text/x-python",
   "name": "python",
   "nbconvert_exporter": "python",
   "pygments_lexer": "ipython3",
   "version": "3.8.8"
  }
 },
 "nbformat": 4,
 "nbformat_minor": 4
}
